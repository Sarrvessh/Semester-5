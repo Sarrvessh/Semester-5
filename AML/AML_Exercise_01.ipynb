{
  "cells": [
    {
      "cell_type": "code",
      "execution_count": 3,
      "metadata": {
        "id": "-vro0K1ZGlVd"
      },
      "outputs": [],
      "source": [
        "import numpy as np\n",
        "import pandas as pd\n",
        "import matplotlib.pyplot as plt\n",
        "import seaborn as sns\n",
        "\n",
        "from sklearn.model_selection import train_test_split\n",
        "from sklearn.preprocessing import StandardScaler\n",
        "from sklearn.neighbors import KNeighborsClassifier\n",
        "from sklearn.metrics import accuracy_score\n",
        "from sklearn.metrics import confusion_matrix\n",
        "from sklearn.metrics import classification_report"
      ]
    },
    {
      "cell_type": "code",
      "execution_count": 4,
      "metadata": {
        "id": "GGpyBPnNGq_8"
      },
      "outputs": [],
      "source": [
        "df=pd.read_csv(\"Breast_Cancer.csv\")"
      ]
    },
    {
      "cell_type": "code",
      "execution_count": 5,
      "metadata": {
        "colab": {
          "base_uri": "https://localhost:8080/",
          "height": 441
        },
        "id": "Adx7r2ZQHJa0",
        "outputId": "7607b47e-52e7-4e9a-c36a-4cd634ab0c47"
      },
      "outputs": [
        {
          "name": "stdout",
          "output_type": "stream",
          "text": [
            "DataFrame :\n"
          ]
        },
        {
          "data": {
            "text/html": [
              "<div>\n",
              "<style scoped>\n",
              "    .dataframe tbody tr th:only-of-type {\n",
              "        vertical-align: middle;\n",
              "    }\n",
              "\n",
              "    .dataframe tbody tr th {\n",
              "        vertical-align: top;\n",
              "    }\n",
              "\n",
              "    .dataframe thead th {\n",
              "        text-align: right;\n",
              "    }\n",
              "</style>\n",
              "<table border=\"1\" class=\"dataframe\">\n",
              "  <thead>\n",
              "    <tr style=\"text-align: right;\">\n",
              "      <th></th>\n",
              "      <th>Age</th>\n",
              "      <th>Race</th>\n",
              "      <th>Marital Status</th>\n",
              "      <th>T Stage</th>\n",
              "      <th>N Stage</th>\n",
              "      <th>6th Stage</th>\n",
              "      <th>differentiate</th>\n",
              "      <th>Grade</th>\n",
              "      <th>A Stage</th>\n",
              "      <th>Tumor Size</th>\n",
              "      <th>Estrogen Status</th>\n",
              "      <th>Progesterone Status</th>\n",
              "      <th>Regional Node Examined</th>\n",
              "      <th>Reginol Node Positive</th>\n",
              "      <th>Survival Months</th>\n",
              "      <th>Status</th>\n",
              "    </tr>\n",
              "  </thead>\n",
              "  <tbody>\n",
              "    <tr>\n",
              "      <th>0</th>\n",
              "      <td>68</td>\n",
              "      <td>White</td>\n",
              "      <td>Married</td>\n",
              "      <td>T1</td>\n",
              "      <td>N1</td>\n",
              "      <td>IIA</td>\n",
              "      <td>Poorly differentiated</td>\n",
              "      <td>3</td>\n",
              "      <td>Regional</td>\n",
              "      <td>4</td>\n",
              "      <td>Positive</td>\n",
              "      <td>Positive</td>\n",
              "      <td>24</td>\n",
              "      <td>1</td>\n",
              "      <td>60</td>\n",
              "      <td>Alive</td>\n",
              "    </tr>\n",
              "    <tr>\n",
              "      <th>1</th>\n",
              "      <td>50</td>\n",
              "      <td>White</td>\n",
              "      <td>Married</td>\n",
              "      <td>T2</td>\n",
              "      <td>N2</td>\n",
              "      <td>IIIA</td>\n",
              "      <td>Moderately differentiated</td>\n",
              "      <td>2</td>\n",
              "      <td>Regional</td>\n",
              "      <td>35</td>\n",
              "      <td>Positive</td>\n",
              "      <td>Positive</td>\n",
              "      <td>14</td>\n",
              "      <td>5</td>\n",
              "      <td>62</td>\n",
              "      <td>Alive</td>\n",
              "    </tr>\n",
              "    <tr>\n",
              "      <th>2</th>\n",
              "      <td>58</td>\n",
              "      <td>White</td>\n",
              "      <td>Divorced</td>\n",
              "      <td>T3</td>\n",
              "      <td>N3</td>\n",
              "      <td>IIIC</td>\n",
              "      <td>Moderately differentiated</td>\n",
              "      <td>2</td>\n",
              "      <td>Regional</td>\n",
              "      <td>63</td>\n",
              "      <td>Positive</td>\n",
              "      <td>Positive</td>\n",
              "      <td>14</td>\n",
              "      <td>7</td>\n",
              "      <td>75</td>\n",
              "      <td>Alive</td>\n",
              "    </tr>\n",
              "    <tr>\n",
              "      <th>3</th>\n",
              "      <td>58</td>\n",
              "      <td>White</td>\n",
              "      <td>Married</td>\n",
              "      <td>T1</td>\n",
              "      <td>N1</td>\n",
              "      <td>IIA</td>\n",
              "      <td>Poorly differentiated</td>\n",
              "      <td>3</td>\n",
              "      <td>Regional</td>\n",
              "      <td>18</td>\n",
              "      <td>Positive</td>\n",
              "      <td>Positive</td>\n",
              "      <td>2</td>\n",
              "      <td>1</td>\n",
              "      <td>84</td>\n",
              "      <td>Alive</td>\n",
              "    </tr>\n",
              "    <tr>\n",
              "      <th>4</th>\n",
              "      <td>47</td>\n",
              "      <td>White</td>\n",
              "      <td>Married</td>\n",
              "      <td>T2</td>\n",
              "      <td>N1</td>\n",
              "      <td>IIB</td>\n",
              "      <td>Poorly differentiated</td>\n",
              "      <td>3</td>\n",
              "      <td>Regional</td>\n",
              "      <td>41</td>\n",
              "      <td>Positive</td>\n",
              "      <td>Positive</td>\n",
              "      <td>3</td>\n",
              "      <td>1</td>\n",
              "      <td>50</td>\n",
              "      <td>Alive</td>\n",
              "    </tr>\n",
              "    <tr>\n",
              "      <th>...</th>\n",
              "      <td>...</td>\n",
              "      <td>...</td>\n",
              "      <td>...</td>\n",
              "      <td>...</td>\n",
              "      <td>...</td>\n",
              "      <td>...</td>\n",
              "      <td>...</td>\n",
              "      <td>...</td>\n",
              "      <td>...</td>\n",
              "      <td>...</td>\n",
              "      <td>...</td>\n",
              "      <td>...</td>\n",
              "      <td>...</td>\n",
              "      <td>...</td>\n",
              "      <td>...</td>\n",
              "      <td>...</td>\n",
              "    </tr>\n",
              "    <tr>\n",
              "      <th>4019</th>\n",
              "      <td>62</td>\n",
              "      <td>Other</td>\n",
              "      <td>Married</td>\n",
              "      <td>T1</td>\n",
              "      <td>N1</td>\n",
              "      <td>IIA</td>\n",
              "      <td>Moderately differentiated</td>\n",
              "      <td>2</td>\n",
              "      <td>Regional</td>\n",
              "      <td>9</td>\n",
              "      <td>Positive</td>\n",
              "      <td>Positive</td>\n",
              "      <td>1</td>\n",
              "      <td>1</td>\n",
              "      <td>49</td>\n",
              "      <td>Alive</td>\n",
              "    </tr>\n",
              "    <tr>\n",
              "      <th>4020</th>\n",
              "      <td>56</td>\n",
              "      <td>White</td>\n",
              "      <td>Divorced</td>\n",
              "      <td>T2</td>\n",
              "      <td>N2</td>\n",
              "      <td>IIIA</td>\n",
              "      <td>Moderately differentiated</td>\n",
              "      <td>2</td>\n",
              "      <td>Regional</td>\n",
              "      <td>46</td>\n",
              "      <td>Positive</td>\n",
              "      <td>Positive</td>\n",
              "      <td>14</td>\n",
              "      <td>8</td>\n",
              "      <td>69</td>\n",
              "      <td>Alive</td>\n",
              "    </tr>\n",
              "    <tr>\n",
              "      <th>4021</th>\n",
              "      <td>68</td>\n",
              "      <td>White</td>\n",
              "      <td>Married</td>\n",
              "      <td>T2</td>\n",
              "      <td>N1</td>\n",
              "      <td>IIB</td>\n",
              "      <td>Moderately differentiated</td>\n",
              "      <td>2</td>\n",
              "      <td>Regional</td>\n",
              "      <td>22</td>\n",
              "      <td>Positive</td>\n",
              "      <td>Negative</td>\n",
              "      <td>11</td>\n",
              "      <td>3</td>\n",
              "      <td>69</td>\n",
              "      <td>Alive</td>\n",
              "    </tr>\n",
              "    <tr>\n",
              "      <th>4022</th>\n",
              "      <td>58</td>\n",
              "      <td>Black</td>\n",
              "      <td>Divorced</td>\n",
              "      <td>T2</td>\n",
              "      <td>N1</td>\n",
              "      <td>IIB</td>\n",
              "      <td>Moderately differentiated</td>\n",
              "      <td>2</td>\n",
              "      <td>Regional</td>\n",
              "      <td>44</td>\n",
              "      <td>Positive</td>\n",
              "      <td>Positive</td>\n",
              "      <td>11</td>\n",
              "      <td>1</td>\n",
              "      <td>72</td>\n",
              "      <td>Alive</td>\n",
              "    </tr>\n",
              "    <tr>\n",
              "      <th>4023</th>\n",
              "      <td>46</td>\n",
              "      <td>White</td>\n",
              "      <td>Married</td>\n",
              "      <td>T2</td>\n",
              "      <td>N1</td>\n",
              "      <td>IIB</td>\n",
              "      <td>Moderately differentiated</td>\n",
              "      <td>2</td>\n",
              "      <td>Regional</td>\n",
              "      <td>30</td>\n",
              "      <td>Positive</td>\n",
              "      <td>Positive</td>\n",
              "      <td>7</td>\n",
              "      <td>2</td>\n",
              "      <td>100</td>\n",
              "      <td>Alive</td>\n",
              "    </tr>\n",
              "  </tbody>\n",
              "</table>\n",
              "<p>4024 rows × 16 columns</p>\n",
              "</div>"
            ],
            "text/plain": [
              "      Age   Race Marital Status T Stage  N Stage 6th Stage  \\\n",
              "0      68  White        Married       T1      N1       IIA   \n",
              "1      50  White        Married       T2      N2      IIIA   \n",
              "2      58  White       Divorced       T3      N3      IIIC   \n",
              "3      58  White        Married       T1      N1       IIA   \n",
              "4      47  White        Married       T2      N1       IIB   \n",
              "...   ...    ...            ...      ...     ...       ...   \n",
              "4019   62  Other        Married       T1      N1       IIA   \n",
              "4020   56  White       Divorced       T2      N2      IIIA   \n",
              "4021   68  White        Married       T2      N1       IIB   \n",
              "4022   58  Black       Divorced       T2      N1       IIB   \n",
              "4023   46  White        Married       T2      N1       IIB   \n",
              "\n",
              "                  differentiate Grade   A Stage  Tumor Size Estrogen Status  \\\n",
              "0         Poorly differentiated     3  Regional           4        Positive   \n",
              "1     Moderately differentiated     2  Regional          35        Positive   \n",
              "2     Moderately differentiated     2  Regional          63        Positive   \n",
              "3         Poorly differentiated     3  Regional          18        Positive   \n",
              "4         Poorly differentiated     3  Regional          41        Positive   \n",
              "...                         ...   ...       ...         ...             ...   \n",
              "4019  Moderately differentiated     2  Regional           9        Positive   \n",
              "4020  Moderately differentiated     2  Regional          46        Positive   \n",
              "4021  Moderately differentiated     2  Regional          22        Positive   \n",
              "4022  Moderately differentiated     2  Regional          44        Positive   \n",
              "4023  Moderately differentiated     2  Regional          30        Positive   \n",
              "\n",
              "     Progesterone Status  Regional Node Examined  Reginol Node Positive  \\\n",
              "0               Positive                      24                      1   \n",
              "1               Positive                      14                      5   \n",
              "2               Positive                      14                      7   \n",
              "3               Positive                       2                      1   \n",
              "4               Positive                       3                      1   \n",
              "...                  ...                     ...                    ...   \n",
              "4019            Positive                       1                      1   \n",
              "4020            Positive                      14                      8   \n",
              "4021            Negative                      11                      3   \n",
              "4022            Positive                      11                      1   \n",
              "4023            Positive                       7                      2   \n",
              "\n",
              "      Survival Months Status  \n",
              "0                  60  Alive  \n",
              "1                  62  Alive  \n",
              "2                  75  Alive  \n",
              "3                  84  Alive  \n",
              "4                  50  Alive  \n",
              "...               ...    ...  \n",
              "4019               49  Alive  \n",
              "4020               69  Alive  \n",
              "4021               69  Alive  \n",
              "4022               72  Alive  \n",
              "4023              100  Alive  \n",
              "\n",
              "[4024 rows x 16 columns]"
            ]
          },
          "execution_count": 5,
          "metadata": {},
          "output_type": "execute_result"
        }
      ],
      "source": [
        "print(\"DataFrame :\")\n",
        "df"
      ]
    },
    {
      "cell_type": "code",
      "execution_count": 6,
      "metadata": {
        "colab": {
          "base_uri": "https://localhost:8080/"
        },
        "id": "bkmzOpSpHUj9",
        "outputId": "a94ac35c-ad0b-4759-ef0d-bf0fd1d0c819"
      },
      "outputs": [
        {
          "name": "stdout",
          "output_type": "stream",
          "text": [
            " Data Types :\n"
          ]
        },
        {
          "data": {
            "text/plain": [
              "Age                        int64\n",
              "Race                      object\n",
              "Marital Status            object\n",
              "T Stage                   object\n",
              "N Stage                   object\n",
              "6th Stage                 object\n",
              "differentiate             object\n",
              "Grade                     object\n",
              "A Stage                   object\n",
              "Tumor Size                 int64\n",
              "Estrogen Status           object\n",
              "Progesterone Status       object\n",
              "Regional Node Examined     int64\n",
              "Reginol Node Positive      int64\n",
              "Survival Months            int64\n",
              "Status                    object\n",
              "dtype: object"
            ]
          },
          "execution_count": 6,
          "metadata": {},
          "output_type": "execute_result"
        }
      ],
      "source": [
        "print(\" Data Types :\")\n",
        "df.dtypes"
      ]
    },
    {
      "cell_type": "code",
      "execution_count": 7,
      "metadata": {
        "colab": {
          "base_uri": "https://localhost:8080/"
        },
        "id": "fU7JBQYVHaDd",
        "outputId": "8bee5678-bd82-4180-f6f0-cf582a864465"
      },
      "outputs": [
        {
          "name": "stdout",
          "output_type": "stream",
          "text": [
            "Printing first 5 values :\n",
            "   Age   Race Marital Status T Stage  N Stage 6th Stage  \\\n",
            "0   68  White        Married       T1      N1       IIA   \n",
            "1   50  White        Married       T2      N2      IIIA   \n",
            "2   58  White       Divorced       T3      N3      IIIC   \n",
            "3   58  White        Married       T1      N1       IIA   \n",
            "4   47  White        Married       T2      N1       IIB   \n",
            "\n",
            "               differentiate Grade   A Stage  Tumor Size Estrogen Status  \\\n",
            "0      Poorly differentiated     3  Regional           4        Positive   \n",
            "1  Moderately differentiated     2  Regional          35        Positive   \n",
            "2  Moderately differentiated     2  Regional          63        Positive   \n",
            "3      Poorly differentiated     3  Regional          18        Positive   \n",
            "4      Poorly differentiated     3  Regional          41        Positive   \n",
            "\n",
            "  Progesterone Status  Regional Node Examined  Reginol Node Positive  \\\n",
            "0            Positive                      24                      1   \n",
            "1            Positive                      14                      5   \n",
            "2            Positive                      14                      7   \n",
            "3            Positive                       2                      1   \n",
            "4            Positive                       3                      1   \n",
            "\n",
            "   Survival Months Status  \n",
            "0               60  Alive  \n",
            "1               62  Alive  \n",
            "2               75  Alive  \n",
            "3               84  Alive  \n",
            "4               50  Alive  \n",
            "Rows x Columns :\n"
          ]
        },
        {
          "data": {
            "text/plain": [
              "(4024, 16)"
            ]
          },
          "execution_count": 7,
          "metadata": {},
          "output_type": "execute_result"
        }
      ],
      "source": [
        "print(\"Printing first 5 values :\")\n",
        "print(df.head())\n",
        "\n",
        "print(\"Rows x Columns :\")\n",
        "df.shape"
      ]
    },
    {
      "cell_type": "code",
      "execution_count": 8,
      "metadata": {
        "colab": {
          "base_uri": "https://localhost:8080/"
        },
        "id": "pQpgDq_cHr4r",
        "outputId": "d77b5e3a-1f35-4d0a-9318-7cc954912763"
      },
      "outputs": [
        {
          "ename": "ValueError",
          "evalue": "Length mismatch: Expected axis has 16 elements, new values have 11 elements",
          "output_type": "error",
          "traceback": [
            "\u001b[1;31m---------------------------------------------------------------------------\u001b[0m",
            "\u001b[1;31mValueError\u001b[0m                                Traceback (most recent call last)",
            "Cell \u001b[1;32mIn[8], line 3\u001b[0m\n\u001b[0;32m      1\u001b[0m col_names \u001b[38;5;241m=\u001b[39m [\u001b[38;5;124m'\u001b[39m\u001b[38;5;124mId\u001b[39m\u001b[38;5;124m'\u001b[39m, \u001b[38;5;124m'\u001b[39m\u001b[38;5;124mClump_thickness\u001b[39m\u001b[38;5;124m'\u001b[39m, \u001b[38;5;124m'\u001b[39m\u001b[38;5;124mUniformity_Cell_Size\u001b[39m\u001b[38;5;124m'\u001b[39m, \u001b[38;5;124m'\u001b[39m\u001b[38;5;124mUniformity_Cell_Shape\u001b[39m\u001b[38;5;124m'\u001b[39m, \u001b[38;5;124m'\u001b[39m\u001b[38;5;124mMarginal_Adhesion\u001b[39m\u001b[38;5;124m'\u001b[39m,\n\u001b[0;32m      2\u001b[0m              \u001b[38;5;124m'\u001b[39m\u001b[38;5;124mSingle_Epithelial_Cell_Size\u001b[39m\u001b[38;5;124m'\u001b[39m, \u001b[38;5;124m'\u001b[39m\u001b[38;5;124mBare_Nuclei\u001b[39m\u001b[38;5;124m'\u001b[39m, \u001b[38;5;124m'\u001b[39m\u001b[38;5;124mBland_Chromatin\u001b[39m\u001b[38;5;124m'\u001b[39m, \u001b[38;5;124m'\u001b[39m\u001b[38;5;124mNormal_Nucleoli\u001b[39m\u001b[38;5;124m'\u001b[39m, \u001b[38;5;124m'\u001b[39m\u001b[38;5;124mMitoses\u001b[39m\u001b[38;5;124m'\u001b[39m, \u001b[38;5;124m'\u001b[39m\u001b[38;5;124mClass\u001b[39m\u001b[38;5;124m'\u001b[39m]\n\u001b[1;32m----> 3\u001b[0m \u001b[43mdf\u001b[49m\u001b[38;5;241;43m.\u001b[39;49m\u001b[43mcolumns\u001b[49m \u001b[38;5;241m=\u001b[39m col_names\n\u001b[0;32m      4\u001b[0m df\u001b[38;5;241m.\u001b[39mcolumns\n",
            "File \u001b[1;32mc:\\Users\\Sarvesh PV\\AppData\\Local\\Programs\\Python\\Python312\\Lib\\site-packages\\pandas\\core\\generic.py:6313\u001b[0m, in \u001b[0;36mNDFrame.__setattr__\u001b[1;34m(self, name, value)\u001b[0m\n\u001b[0;32m   6311\u001b[0m \u001b[38;5;28;01mtry\u001b[39;00m:\n\u001b[0;32m   6312\u001b[0m     \u001b[38;5;28mobject\u001b[39m\u001b[38;5;241m.\u001b[39m\u001b[38;5;21m__getattribute__\u001b[39m(\u001b[38;5;28mself\u001b[39m, name)\n\u001b[1;32m-> 6313\u001b[0m     \u001b[38;5;28;01mreturn\u001b[39;00m \u001b[38;5;28;43mobject\u001b[39;49m\u001b[38;5;241;43m.\u001b[39;49m\u001b[38;5;21;43m__setattr__\u001b[39;49m\u001b[43m(\u001b[49m\u001b[38;5;28;43mself\u001b[39;49m\u001b[43m,\u001b[49m\u001b[43m \u001b[49m\u001b[43mname\u001b[49m\u001b[43m,\u001b[49m\u001b[43m \u001b[49m\u001b[43mvalue\u001b[49m\u001b[43m)\u001b[49m\n\u001b[0;32m   6314\u001b[0m \u001b[38;5;28;01mexcept\u001b[39;00m \u001b[38;5;167;01mAttributeError\u001b[39;00m:\n\u001b[0;32m   6315\u001b[0m     \u001b[38;5;28;01mpass\u001b[39;00m\n",
            "File \u001b[1;32mproperties.pyx:69\u001b[0m, in \u001b[0;36mpandas._libs.properties.AxisProperty.__set__\u001b[1;34m()\u001b[0m\n",
            "File \u001b[1;32mc:\\Users\\Sarvesh PV\\AppData\\Local\\Programs\\Python\\Python312\\Lib\\site-packages\\pandas\\core\\generic.py:814\u001b[0m, in \u001b[0;36mNDFrame._set_axis\u001b[1;34m(self, axis, labels)\u001b[0m\n\u001b[0;32m    809\u001b[0m \u001b[38;5;250m\u001b[39m\u001b[38;5;124;03m\"\"\"\u001b[39;00m\n\u001b[0;32m    810\u001b[0m \u001b[38;5;124;03mThis is called from the cython code when we set the `index` attribute\u001b[39;00m\n\u001b[0;32m    811\u001b[0m \u001b[38;5;124;03mdirectly, e.g. `series.index = [1, 2, 3]`.\u001b[39;00m\n\u001b[0;32m    812\u001b[0m \u001b[38;5;124;03m\"\"\"\u001b[39;00m\n\u001b[0;32m    813\u001b[0m labels \u001b[38;5;241m=\u001b[39m ensure_index(labels)\n\u001b[1;32m--> 814\u001b[0m \u001b[38;5;28;43mself\u001b[39;49m\u001b[38;5;241;43m.\u001b[39;49m\u001b[43m_mgr\u001b[49m\u001b[38;5;241;43m.\u001b[39;49m\u001b[43mset_axis\u001b[49m\u001b[43m(\u001b[49m\u001b[43maxis\u001b[49m\u001b[43m,\u001b[49m\u001b[43m \u001b[49m\u001b[43mlabels\u001b[49m\u001b[43m)\u001b[49m\n\u001b[0;32m    815\u001b[0m \u001b[38;5;28mself\u001b[39m\u001b[38;5;241m.\u001b[39m_clear_item_cache()\n",
            "File \u001b[1;32mc:\\Users\\Sarvesh PV\\AppData\\Local\\Programs\\Python\\Python312\\Lib\\site-packages\\pandas\\core\\internals\\managers.py:238\u001b[0m, in \u001b[0;36mBaseBlockManager.set_axis\u001b[1;34m(self, axis, new_labels)\u001b[0m\n\u001b[0;32m    236\u001b[0m \u001b[38;5;28;01mdef\u001b[39;00m \u001b[38;5;21mset_axis\u001b[39m(\u001b[38;5;28mself\u001b[39m, axis: AxisInt, new_labels: Index) \u001b[38;5;241m-\u001b[39m\u001b[38;5;241m>\u001b[39m \u001b[38;5;28;01mNone\u001b[39;00m:\n\u001b[0;32m    237\u001b[0m     \u001b[38;5;66;03m# Caller is responsible for ensuring we have an Index object.\u001b[39;00m\n\u001b[1;32m--> 238\u001b[0m     \u001b[38;5;28;43mself\u001b[39;49m\u001b[38;5;241;43m.\u001b[39;49m\u001b[43m_validate_set_axis\u001b[49m\u001b[43m(\u001b[49m\u001b[43maxis\u001b[49m\u001b[43m,\u001b[49m\u001b[43m \u001b[49m\u001b[43mnew_labels\u001b[49m\u001b[43m)\u001b[49m\n\u001b[0;32m    239\u001b[0m     \u001b[38;5;28mself\u001b[39m\u001b[38;5;241m.\u001b[39maxes[axis] \u001b[38;5;241m=\u001b[39m new_labels\n",
            "File \u001b[1;32mc:\\Users\\Sarvesh PV\\AppData\\Local\\Programs\\Python\\Python312\\Lib\\site-packages\\pandas\\core\\internals\\base.py:98\u001b[0m, in \u001b[0;36mDataManager._validate_set_axis\u001b[1;34m(self, axis, new_labels)\u001b[0m\n\u001b[0;32m     95\u001b[0m     \u001b[38;5;28;01mpass\u001b[39;00m\n\u001b[0;32m     97\u001b[0m \u001b[38;5;28;01melif\u001b[39;00m new_len \u001b[38;5;241m!=\u001b[39m old_len:\n\u001b[1;32m---> 98\u001b[0m     \u001b[38;5;28;01mraise\u001b[39;00m \u001b[38;5;167;01mValueError\u001b[39;00m(\n\u001b[0;32m     99\u001b[0m         \u001b[38;5;124mf\u001b[39m\u001b[38;5;124m\"\u001b[39m\u001b[38;5;124mLength mismatch: Expected axis has \u001b[39m\u001b[38;5;132;01m{\u001b[39;00mold_len\u001b[38;5;132;01m}\u001b[39;00m\u001b[38;5;124m elements, new \u001b[39m\u001b[38;5;124m\"\u001b[39m\n\u001b[0;32m    100\u001b[0m         \u001b[38;5;124mf\u001b[39m\u001b[38;5;124m\"\u001b[39m\u001b[38;5;124mvalues have \u001b[39m\u001b[38;5;132;01m{\u001b[39;00mnew_len\u001b[38;5;132;01m}\u001b[39;00m\u001b[38;5;124m elements\u001b[39m\u001b[38;5;124m\"\u001b[39m\n\u001b[0;32m    101\u001b[0m     )\n",
            "\u001b[1;31mValueError\u001b[0m: Length mismatch: Expected axis has 16 elements, new values have 11 elements"
          ]
        }
      ],
      "source": [
        "col_names = ['Id', 'Clump_thickness', 'Uniformity_Cell_Size', 'Uniformity_Cell_Shape', 'Marginal_Adhesion',\n",
        "             'Single_Epithelial_Cell_Size', 'Bare_Nuclei', 'Bland_Chromatin', 'Normal_Nucleoli', 'Mitoses', 'Class']\n",
        "df.columns = col_names\n",
        "df.columns"
      ]
    },
    {
      "cell_type": "code",
      "execution_count": null,
      "metadata": {
        "colab": {
          "base_uri": "https://localhost:8080/"
        },
        "id": "zif3O9v2Hvve",
        "outputId": "89705a0b-b98b-4f84-d1b4-281104f8f797"
      },
      "outputs": [
        {
          "name": "stdout",
          "output_type": "stream",
          "text": [
            "Clump_thickness\n",
            "1     145\n",
            "5     129\n",
            "3     108\n",
            "4      80\n",
            "10     69\n",
            "2      50\n",
            "8      46\n",
            "6      34\n",
            "7      23\n",
            "9      14\n",
            "Name: count, dtype: int64\n",
            "Uniformity_Cell_Size\n",
            "1     383\n",
            "10     67\n",
            "3      52\n",
            "2      45\n",
            "4      40\n",
            "5      30\n",
            "8      29\n",
            "6      27\n",
            "7      19\n",
            "9       6\n",
            "Name: count, dtype: int64\n",
            "Uniformity_Cell_Shape\n",
            "1     352\n",
            "2      59\n",
            "10     58\n",
            "3      56\n",
            "4      44\n",
            "5      34\n",
            "6      30\n",
            "7      30\n",
            "8      28\n",
            "9       7\n",
            "Name: count, dtype: int64\n",
            "Marginal_Adhesion\n",
            "1     406\n",
            "3      58\n",
            "2      58\n",
            "10     55\n",
            "4      33\n",
            "8      25\n",
            "5      23\n",
            "6      22\n",
            "7      13\n",
            "9       5\n",
            "Name: count, dtype: int64\n",
            "Single_Epithelial_Cell_Size\n",
            "2     385\n",
            "3      72\n",
            "4      48\n",
            "1      47\n",
            "6      41\n",
            "5      39\n",
            "10     31\n",
            "8      21\n",
            "7      12\n",
            "9       2\n",
            "Name: count, dtype: int64\n",
            "Bare_Nuclei\n",
            "1     401\n",
            "10    132\n",
            "2      30\n",
            "5      30\n",
            "3      28\n",
            "8      21\n",
            "4      19\n",
            "?      16\n",
            "9       9\n",
            "7       8\n",
            "6       4\n",
            "Name: count, dtype: int64\n",
            "Bland_Chromatin\n",
            "2     166\n",
            "3     164\n",
            "1     152\n",
            "7      73\n",
            "4      40\n",
            "5      34\n",
            "8      28\n",
            "10     20\n",
            "9      11\n",
            "6      10\n",
            "Name: count, dtype: int64\n",
            "Normal_Nucleoli\n",
            "1     442\n",
            "10     61\n",
            "3      44\n",
            "2      36\n",
            "8      24\n",
            "6      22\n",
            "5      19\n",
            "4      18\n",
            "7      16\n",
            "9      16\n",
            "Name: count, dtype: int64\n",
            "Mitoses\n",
            "1     578\n",
            "2      35\n",
            "3      33\n",
            "10     14\n",
            "4      12\n",
            "7       9\n",
            "8       8\n",
            "5       6\n",
            "6       3\n",
            "Name: count, dtype: int64\n",
            "Class\n",
            "2    457\n",
            "4    241\n",
            "Name: count, dtype: int64\n",
            "Data types :\n",
            "Clump_thickness                 int64\n",
            "Uniformity_Cell_Size            int64\n",
            "Uniformity_Cell_Shape           int64\n",
            "Marginal_Adhesion               int64\n",
            "Single_Epithelial_Cell_Size     int64\n",
            "Bare_Nuclei                    object\n",
            "Bland_Chromatin                 int64\n",
            "Normal_Nucleoli                 int64\n",
            "Mitoses                         int64\n",
            "Class                           int64\n",
            "dtype: object\n",
            "Clump_thickness                  int64\n",
            "Uniformity_Cell_Size             int64\n",
            "Uniformity_Cell_Shape            int64\n",
            "Marginal_Adhesion                int64\n",
            "Single_Epithelial_Cell_Size      int64\n",
            "Bare_Nuclei                    float64\n",
            "Bland_Chromatin                  int64\n",
            "Normal_Nucleoli                  int64\n",
            "Mitoses                          int64\n",
            "Class                            int64\n",
            "dtype: object\n",
            "Missing values count:\n",
            "Clump_thickness                 0\n",
            "Uniformity_Cell_Size            0\n",
            "Uniformity_Cell_Shape           0\n",
            "Marginal_Adhesion               0\n",
            "Single_Epithelial_Cell_Size     0\n",
            "Bare_Nuclei                    16\n",
            "Bland_Chromatin                 0\n",
            "Normal_Nucleoli                 0\n",
            "Mitoses                         0\n",
            "Class                           0\n",
            "dtype: int64\n",
            "[10.  2.  4.  1.  3.  9.  7. nan  5.  8.  6.]\n",
            "class column-frequency\n",
            "Class\n",
            "2    457\n",
            "4    241\n",
            "Name: count, dtype: int64\n",
            "frequency distribution of class variable\n",
            "Class\n",
            "2    0.654728\n",
            "4    0.345272\n",
            "Name: count, dtype: float64\n",
            "       Clump_thickness  Uniformity_Cell_Size  Uniformity_Cell_Shape  \\\n",
            "count       698.000000            698.000000             698.000000   \n",
            "mean          4.416905              3.137536               3.210602   \n",
            "std           2.817673              3.052575               2.972867   \n",
            "min           1.000000              1.000000               1.000000   \n",
            "25%           2.000000              1.000000               1.000000   \n",
            "50%           4.000000              1.000000               1.000000   \n",
            "75%           6.000000              5.000000               5.000000   \n",
            "max          10.000000             10.000000              10.000000   \n",
            "\n",
            "       Marginal_Adhesion  Single_Epithelial_Cell_Size  Bare_Nuclei  \\\n",
            "count         698.000000                   698.000000   698.000000   \n",
            "mean            2.809456                     3.217765     3.548387   \n",
            "std             2.856606                     2.215408     3.603144   \n",
            "min             1.000000                     1.000000     1.000000   \n",
            "25%             1.000000                     2.000000     1.000000   \n",
            "50%             1.000000                     2.000000     1.000000   \n",
            "75%             4.000000                     4.000000     5.000000   \n",
            "max            10.000000                    10.000000    10.000000   \n",
            "\n",
            "       Bland_Chromatin  Normal_Nucleoli     Mitoses       Class  \n",
            "count       698.000000       698.000000  698.000000  698.000000  \n",
            "mean          3.438395         2.869628    1.590258    2.690544  \n",
            "std           2.440056         3.055004    1.716162    0.951596  \n",
            "min           1.000000         1.000000    1.000000    2.000000  \n",
            "25%           2.000000         1.000000    1.000000    2.000000  \n",
            "50%           3.000000         1.000000    1.000000    2.000000  \n",
            "75%           5.000000         4.000000    1.000000    4.000000  \n",
            "max          10.000000        10.000000   10.000000    4.000000  \n"
          ]
        }
      ],
      "source": [
        "df.drop('Id', axis=1, inplace=True)\n",
        "\n",
        "for var in df.columns:\n",
        "    print(df[var].value_counts())\n",
        "\n",
        "\n",
        "print(\"Data types :\")\n",
        "print(df.dtypes)\n",
        "\n",
        "df['Bare_Nuclei'] = pd.to_numeric(df['Bare_Nuclei'], errors='coerce')\n",
        "\n",
        "\n",
        "print(df.dtypes)\n",
        "\n",
        "\n",
        "print(\"Missing values count:\")\n",
        "missing_values_count = df.isnull().sum()\n",
        "print(missing_values_count)\n",
        "\n",
        "print(df['Bare_Nuclei'].unique())\n",
        "\n",
        "mean_bare_nuclei = df['Bare_Nuclei'].mean()\n",
        "df['Bare_Nuclei'] = df['Bare_Nuclei'].fillna(mean_bare_nuclei)\n",
        "\n",
        "print(\"class column-frequency\")\n",
        "print(df['Class'].value_counts())\n",
        "\n",
        "print(\"frequency distribution of class variable\")\n",
        "print(df['Class'].value_counts() / float(len(df)))\n",
        "\n",
        "print(df.describe())"
      ]
    },
    {
      "cell_type": "code",
      "execution_count": null,
      "metadata": {
        "colab": {
          "base_uri": "https://localhost:8080/"
        },
        "id": "I8CN9V7TIg-m",
        "outputId": "d13a38d4-c0bf-48c8-96af-bda73fc5851f"
      },
      "outputs": [
        {
          "name": "stdout",
          "output_type": "stream",
          "text": [
            "X_train , X_test size\n",
            "(558, 9) (140, 9)\n"
          ]
        }
      ],
      "source": [
        "X = df.drop(['Class'], axis=1)\n",
        "y = df['Class']\n",
        "\n",
        "\n",
        "X_train, X_test, y_train, y_test = train_test_split(X, y, test_size = 0.2, random_state = 0)\n",
        "\n",
        "\n",
        "print(\"X_train , X_test size\")\n",
        "print(X_train.shape, X_test.shape)"
      ]
    },
    {
      "cell_type": "code",
      "execution_count": null,
      "metadata": {
        "colab": {
          "base_uri": "https://localhost:8080/"
        },
        "id": "e2bBal7SIltP",
        "outputId": "787e6309-71d6-43e6-d568-70d7ffcf88f3"
      },
      "outputs": [
        {
          "name": "stdout",
          "output_type": "stream",
          "text": [
            "  Clump_thickness Uniformity_Cell_Size Uniformity_Cell_Shape  \\\n",
            "0        0.574621            -0.040143              0.277515   \n",
            "1       -0.497748            -0.680143             -0.721540   \n",
            "2        0.932077             1.879857              0.277515   \n",
            "3        0.932077             0.599857              0.943552   \n",
            "4       -0.855205            -0.680143             -0.721540   \n",
            "\n",
            "  Marginal_Adhesion Single_Epithelial_Cell_Size Bare_Nuclei Bland_Chromatin  \\\n",
            "0         -0.629622                    0.775913   -0.405541       -0.171342   \n",
            "1         -0.629622                   -0.549473   -0.684148       -0.171342   \n",
            "2          2.541854                    2.984890   -0.126934        0.660039   \n",
            "3          0.075150                   -0.107678    1.266102        1.491419   \n",
            "4         -0.629622                   -0.549473   -0.684148       -1.002722   \n",
            "\n",
            "  Normal_Nucleoli   Mitoses  \n",
            "0        1.983330 -0.333601  \n",
            "1       -0.601658 -0.333601  \n",
            "2        0.044589  0.859663  \n",
            "3        0.367712 -0.333601  \n",
            "4       -0.601658 -0.333601  \n"
          ]
        }
      ],
      "source": [
        "cols = X_train.columns\n",
        "scaler = StandardScaler()\n",
        "X_train = scaler.fit_transform(X_train)\n",
        "X_test = scaler.transform(X_test)\n",
        "\n",
        "\n",
        "X_train = pd.DataFrame(X_train, columns=[cols])\n",
        "X_test = pd.DataFrame(X_test, columns=[cols])\n",
        "print(X_train.head())"
      ]
    },
    {
      "cell_type": "code",
      "execution_count": null,
      "metadata": {
        "colab": {
          "base_uri": "https://localhost:8080/"
        },
        "id": "ZMMdCTeNIwvl",
        "outputId": "b8480861-b8e5-4bcd-a99f-e4301cf289b4"
      },
      "outputs": [
        {
          "name": "stdout",
          "output_type": "stream",
          "text": [
            "[4 2 4 4 2 2 2 2 2 2 2 2 2 2 2 2 2 2 4 4 2 4 4 4 2 4 4 4 2 2 4 2 2 2 2 2 2\n",
            " 4 2 2 2 2 2 4 4 4 2 4 2 4 2 2 2 4 2 2 2 2 2 4 4 4 4 4 2 4 4 2 4 4 2 2 4 2\n",
            " 2 2 4 2 4 2 4 2 2 2 2 2 4 2 2 4 4 4 2 4 2 4 2 2 2 2 4 4 4 4 2 2 4 2 2 2 2\n",
            " 2 2 2 2 2 4 2 2 4 2 2 4 4 4 2 2 4 2 2 4 4 2 4 2 2 2 2 4 4]\n",
            "probability of getting op as 2-benign\n",
            "[0.         1.         0.         0.33333333 1.         1.\n",
            " 1.         1.         1.         1.         1.         1.\n",
            " 1.         1.         1.         1.         1.         1.\n",
            " 0.         0.         1.         0.         0.         0.\n",
            " 1.         0.         0.         0.         0.66666667 1.\n",
            " 0.         1.         1.         1.         1.         1.\n",
            " 1.         0.         1.         1.         1.         1.\n",
            " 1.         0.         0.         0.         1.         0.\n",
            " 1.         0.         1.         1.         1.         0.\n",
            " 1.         1.         1.         1.         1.         0.\n",
            " 0.         0.33333333 0.         0.         1.         0.\n",
            " 0.         1.         0.         0.         1.         1.\n",
            " 0.         1.         1.         1.         0.33333333 1.\n",
            " 0.         1.         0.         1.         1.         1.\n",
            " 1.         1.         0.         1.         1.         0.\n",
            " 0.         0.         1.         0.33333333 1.         0.\n",
            " 1.         1.         1.         1.         0.33333333 0.\n",
            " 0.         0.         1.         1.         0.33333333 1.\n",
            " 1.         1.         1.         0.66666667 1.         0.66666667\n",
            " 0.66666667 1.         0.         1.         1.         0.\n",
            " 1.         1.         0.         0.33333333 0.         1.\n",
            " 1.         0.         1.         1.         0.         0.\n",
            " 1.         0.         1.         1.         1.         1.\n",
            " 0.         0.33333333]\n"
          ]
        }
      ],
      "source": [
        "knn = KNeighborsClassifier(n_neighbors=3)\n",
        "knn.fit(X_train, y_train)\n",
        "\n",
        "y_pred = knn.predict(X_test)\n",
        "print(y_pred)\n",
        "\n",
        "print(\"probability of getting op as 2-benign\")\n",
        "print(knn.predict_proba(X_test)[:,0])"
      ]
    },
    {
      "cell_type": "code",
      "execution_count": null,
      "metadata": {
        "colab": {
          "base_uri": "https://localhost:8080/"
        },
        "id": "Us4U7X-oJBSN",
        "outputId": "599487d7-5fff-4f74-9d94-04577f4cba6f"
      },
      "outputs": [
        {
          "name": "stdout",
          "output_type": "stream",
          "text": [
            "Model accuracy score with k=3: 0.9643\n",
            "Training set score: 0.9785\n",
            "Test set score: 0.9643\n"
          ]
        }
      ],
      "source": [
        "print('Model accuracy score with k=3: {0:0.4f}'. format(accuracy_score(y_test, y_pred)))\n",
        "print('Training set score: {:.4f}'.format(knn.score(X_train, y_train)))\n",
        "print('Test set score: {:.4f}'.format(knn.score(X_test, y_test)))"
      ]
    },
    {
      "cell_type": "code",
      "execution_count": null,
      "metadata": {
        "colab": {
          "base_uri": "https://localhost:8080/"
        },
        "id": "QPmpJLuSJKdV",
        "outputId": "6a142986-ba99-40db-bb1b-7414bc260d5e"
      },
      "outputs": [
        {
          "name": "stdout",
          "output_type": "stream",
          "text": [
            "Confusion matrix (k=3) \n",
            "\n",
            " [[83  2]\n",
            " [ 3 52]]\n",
            "\n",
            "True Positives(TP) =  83\n",
            "\n",
            "True Negatives(TN) =  52\n",
            "\n",
            "False Positives(FP) =  2\n",
            "\n",
            "False Negatives(FN) =  3\n",
            "              precision    recall  f1-score   support\n",
            "\n",
            "           2       0.97      0.98      0.97        85\n",
            "           4       0.96      0.95      0.95        55\n",
            "\n",
            "    accuracy                           0.96       140\n",
            "   macro avg       0.96      0.96      0.96       140\n",
            "weighted avg       0.96      0.96      0.96       140\n",
            "\n"
          ]
        }
      ],
      "source": [
        "cm = confusion_matrix(y_test, y_pred)\n",
        "print('Confusion matrix (k=3) \\n\\n', cm)\n",
        "print('\\nTrue Positives(TP) = ', cm[0,0])\n",
        "print('\\nTrue Negatives(TN) = ', cm[1,1])\n",
        "print('\\nFalse Positives(FP) = ', cm[0,1])\n",
        "print('\\nFalse Negatives(FN) = ', cm[1,0])\n",
        "\n",
        "\n",
        "print(classification_report(y_test, y_pred))\n",
        "TP = cm[0,0]\n",
        "TN = cm[1,1]\n",
        "FP = cm[0,1]\n",
        "FN = cm[1,0]"
      ]
    },
    {
      "cell_type": "code",
      "execution_count": null,
      "metadata": {
        "colab": {
          "base_uri": "https://localhost:8080/"
        },
        "id": "LDZ8CaCbJRLO",
        "outputId": "b9a9ffab-ea36-4713-d467-c45579acebb6"
      },
      "outputs": [
        {
          "name": "stdout",
          "output_type": "stream",
          "text": [
            " K-fold Cross-Validation Results (Accuracy): [1.         0.95714286 0.95714286 0.95714286 0.95714286 0.98571429\n",
            " 0.94285714 0.95714286 0.95652174 0.98550725]\n",
            " K-fold Mean Accuracy CV: 0.9656314699792963\n"
          ]
        }
      ],
      "source": [
        "from sklearn.model_selection import cross_val_score, KFold\n",
        "num_folds = 10\n",
        "kf = KFold(n_splits=num_folds, shuffle=True, random_state=42)\n",
        "cross_val_results = cross_val_score(knn, X, y, cv=kf)\n",
        "print(f' K-fold Cross-Validation Results (Accuracy): {cross_val_results}')\n",
        "print(f' K-fold Mean Accuracy CV: {cross_val_results.mean()}')"
      ]
    },
    {
      "cell_type": "code",
      "execution_count": null,
      "metadata": {
        "colab": {
          "base_uri": "https://localhost:8080/"
        },
        "id": "ohILjmHyJY0t",
        "outputId": "388cd007-d532-4cd3-d994-35d9154099e8"
      },
      "outputs": [
        {
          "name": "stdout",
          "output_type": "stream",
          "text": [
            " Stratified K-fold Cross-Validation Results (Accuracy): [0.97142857 0.95714286 0.92857143 1.         1.         0.97142857\n",
            " 0.95714286 0.94285714 0.95652174 0.97101449]\n",
            " Stratified K-fold Mean Accuracy CV: 0.9656107660455486\n"
          ]
        }
      ],
      "source": [
        "from sklearn.model_selection import cross_val_score, StratifiedKFold\n",
        "num_folds = 10\n",
        "skf = StratifiedKFold(n_splits=num_folds, shuffle=True, random_state=42)\n",
        "cross_val_results = cross_val_score(knn, X, y, cv=skf)\n",
        "print(f' Stratified K-fold Cross-Validation Results (Accuracy): {cross_val_results}')\n",
        "print(f' Stratified K-fold Mean Accuracy CV: {cross_val_results.mean()}')"
      ]
    }
  ],
  "metadata": {
    "colab": {
      "provenance": []
    },
    "kernelspec": {
      "display_name": "Python 3",
      "name": "python3"
    },
    "language_info": {
      "codemirror_mode": {
        "name": "ipython",
        "version": 3
      },
      "file_extension": ".py",
      "mimetype": "text/x-python",
      "name": "python",
      "nbconvert_exporter": "python",
      "pygments_lexer": "ipython3",
      "version": "3.12.5"
    }
  },
  "nbformat": 4,
  "nbformat_minor": 0
}
