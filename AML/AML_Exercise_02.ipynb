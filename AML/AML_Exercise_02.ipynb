{
  "nbformat": 4,
  "nbformat_minor": 0,
  "metadata": {
    "colab": {
      "provenance": []
    },
    "kernelspec": {
      "name": "python3",
      "display_name": "Python 3"
    },
    "language_info": {
      "name": "python"
    }
  },
  "cells": [
    {
      "cell_type": "code",
      "source": [
        "import pandas as pd\n",
        "import numpy as np\n",
        "from sklearn.neighbors import KNeighborsClassifier\n",
        "from sklearn.metrics import accuracy_score"
      ],
      "metadata": {
        "id": "_-nSxNdPKh7V"
      },
      "execution_count": 1,
      "outputs": []
    },
    {
      "cell_type": "code",
      "source": [
        "def k_fold_cross_validation(X, y, k, model):\n",
        "    \"\"\"\n",
        "    Perform K-fold cross-validation.\n",
        "\n",
        "    Parameters:\n",
        "    X: np.array, features\n",
        "    y: np.array, labels\n",
        "    k: int, number of folds\n",
        "    model: machine learning model\n",
        "\n",
        "    Returns:\n",
        "    mean_accuracy: float, mean accuracy over all folds\n",
        "    \"\"\"\n",
        "    fold_size = len(X) // k\n",
        "    accuracies = []\n",
        "\n",
        "    for fold in range(k):\n",
        "        start = fold * fold_size\n",
        "        end = (fold + 1) * fold_size\n",
        "\n",
        "        X_train = np.concatenate([X[:start], X[end:]])\n",
        "        y_train = np.concatenate([y[:start], y[end:]])\n",
        "        X_val = X[start:end]\n",
        "        y_val = y[start:end]\n",
        "\n",
        "        model.fit(X_train, y_train)\n",
        "        y_pred = model.predict(X_val)\n",
        "        accuracy = accuracy_score(y_val, y_pred)\n",
        "        accuracies.append(accuracy)\n",
        "\n",
        "        print(f\"Fold {fold + 1}, Accuracy: {accuracy}\")\n",
        "\n",
        "    mean_accuracy = np.mean(accuracies)\n",
        "    return mean_accuracy"
      ],
      "metadata": {
        "id": "JvOrLTvfKlIH"
      },
      "execution_count": 2,
      "outputs": []
    },
    {
      "cell_type": "code",
      "source": [
        "file_path = 'breast cancer.csv'\n",
        "breast_cancer_data = pd.read_csv(file_path)\n",
        "\n",
        "breast_cancer_data.replace('?', np.nan, inplace=True)\n",
        "breast_cancer_data.fillna(breast_cancer_data.median(), inplace=True)\n",
        "\n",
        "X = breast_cancer_data.iloc[:, :-1].values\n",
        "y = breast_cancer_data.iloc[:, -1].values\n",
        "\n",
        "knn = KNeighborsClassifier(n_neighbors=3)\n",
        "\n",
        "k = 5\n",
        "mean_accuracy = k_fold_cross_validation(X, y, k, knn)\n",
        "print(f\"Mean Accuracy: {mean_accuracy}\")"
      ],
      "metadata": {
        "colab": {
          "base_uri": "https://localhost:8080/"
        },
        "id": "VCCdDQToKoLN",
        "outputId": "66deb581-ba51-4d00-f925-25cf8c708eb1"
      },
      "execution_count": 6,
      "outputs": [
        {
          "output_type": "stream",
          "name": "stdout",
          "text": [
            "Fold 1, Accuracy: 0.539568345323741\n",
            "Fold 2, Accuracy: 0.539568345323741\n",
            "Fold 3, Accuracy: 0.5683453237410072\n",
            "Fold 4, Accuracy: 0.6115107913669064\n",
            "Fold 5, Accuracy: 0.6690647482014388\n",
            "Mean Accuracy: 0.5856115107913669\n"
          ]
        }
      ]
    }
  ]
}